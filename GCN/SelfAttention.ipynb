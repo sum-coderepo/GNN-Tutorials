{
 "cells": [
  {
   "cell_type": "markdown",
   "id": "5b178dd0-1bf9-4ad4-b133-1fc22768fc3b",
   "metadata": {},
   "source": [
    "# Self Attention"
   ]
  },
  {
   "cell_type": "markdown",
   "id": "cd090909-c2fb-4ae0-aa34-3473eb39157c",
   "metadata": {},
   "source": [
    "## 1. https://github.com/datnnt1997/multi-head_self-attention"
   ]
  },
  {
   "cell_type": "code",
   "execution_count": 1,
   "id": "c2ef5f13-0a01-456e-9076-1cb0cfd5ef52",
   "metadata": {},
   "outputs": [
    {
     "name": "stderr",
     "output_type": "stream",
     "text": [
      "C:\\Users\\suagrawa\\Anaconda3\\envs\\Optimization-Python\\lib\\site-packages\\tqdm\\auto.py:22: TqdmWarning: IProgress not found. Please update jupyter and ipywidgets. See https://ipywidgets.readthedocs.io/en/stable/user_install.html\n",
      "  from .autonotebook import tqdm as notebook_tqdm\n"
     ]
    }
   ],
   "source": [
    "\n",
    "import torch\n",
    "import torch.nn as nn\n",
    "\n",
    "import math"
   ]
  },
  {
   "cell_type": "code",
   "execution_count": 2,
   "id": "13d4622e-5b30-4765-b9fa-23d18f8be856",
   "metadata": {},
   "outputs": [],
   "source": [
    "class BertSelfAttention(nn.Module):\n",
    "      def __init__(self, config):\n",
    "        super().__init__()\n",
    "        assert config[\"hidden_size\"] % config[\"num_of_attention_heads\"] == 0, \"The hidden size is not a multiple of the number of attention heads\"\n",
    "\n",
    "        self.num_attention_heads = config['num_of_attention_heads']\n",
    "        self.attention_head_size = int(config['hidden_size'] / config['num_of_attention_heads'])\n",
    "        self.all_head_size = self.num_attention_heads * self.attention_head_size\n",
    "\n",
    "        self.query = nn.Linear(config['hidden_size'], self.all_head_size)\n",
    "        self.key = nn.Linear(config['hidden_size'], self.all_head_size)\n",
    "        self.value = nn.Linear(config['hidden_size'], self.all_head_size)\n",
    "\n",
    "        self.dense = nn.Linear(config['hidden_size'], config['hidden_size'])\n",
    "\n",
    "      def transpose_for_scores(self, x):\n",
    "        new_x_shape = x.size()[:-1] + (self.num_attention_heads, self.attention_head_size)\n",
    "        x = x.view(*new_x_shape)\n",
    "        return x.permute(0, 2, 1, 3)\n",
    "\n",
    "      def forward(self, hidden_states):\n",
    "        mixed_query_layer = self.query(hidden_states)                             # [Batch_size x Seq_length x Hidden_size]\n",
    "        mixed_key_layer = self.key(hidden_states)                                 # [Batch_size x Seq_length x Hidden_size]\n",
    "        mixed_value_layer = self.value(hidden_states)                             # [Batch_size x Seq_length x Hidden_size]\n",
    "        \n",
    "        query_layer = self.transpose_for_scores(mixed_query_layer)                # [Batch_size x Num_of_heads x Seq_length x Head_size]\n",
    "        key_layer = self.transpose_for_scores(mixed_key_layer)                    # [Batch_size x Num_of_heads x Seq_length x Head_size]\n",
    "        value_layer = self.transpose_for_scores(mixed_value_layer)                # [Batch_size x Num_of_heads x Seq_length x Head_size]\n",
    "\n",
    "        \n",
    "        attention_scores = torch.matmul(query_layer, key_layer.transpose(-1, -2)) # [Batch_size x Num_of_heads x Seq_length x Seq_length]\n",
    "        attention_scores = attention_scores / math.sqrt(self.attention_head_size) # [Batch_size x Num_of_heads x Seq_length x Seq_length]\n",
    "        attention_probs = nn.Softmax(dim=-1)(attention_scores)                    # [Batch_size x Num_of_heads x Seq_length x Seq_length]\n",
    "        context_layer = torch.matmul(attention_probs, value_layer)                # [Batch_size x Num_of_heads x Seq_length x Head_size]\n",
    "\n",
    "        context_layer = context_layer.permute(0, 2, 1, 3).contiguous()            # [Batch_size x Seq_length x Num_of_heads x Head_size]\n",
    "        new_context_layer_shape = context_layer.size()[:-2] + (self.all_head_size,) # [Batch_size x Seq_length x Hidden_size]\n",
    "        context_layer = context_layer.view(*new_context_layer_shape)              # [Batch_size x Seq_length x Hidden_size]\n",
    "        \n",
    "        output =  self.dense(context_layer)\n",
    "        \n",
    "        return output"
   ]
  },
  {
   "cell_type": "code",
   "execution_count": 3,
   "id": "a0a9195b-a660-4a72-8323-534e0359e082",
   "metadata": {},
   "outputs": [],
   "source": [
    "\n",
    "config = {\n",
    "    \"num_of_attention_heads\": 2,\n",
    "    \"hidden_size\": 4\n",
    "}\n",
    "     "
   ]
  },
  {
   "cell_type": "code",
   "execution_count": 4,
   "id": "e2cda419-3f17-43ef-972c-70545ae0f004",
   "metadata": {},
   "outputs": [
    {
     "name": "stdout",
     "output_type": "stream",
     "text": [
      "BertSelfAttention(\n",
      "  (query): Linear(in_features=4, out_features=4, bias=True)\n",
      "  (key): Linear(in_features=4, out_features=4, bias=True)\n",
      "  (value): Linear(in_features=4, out_features=4, bias=True)\n",
      "  (dense): Linear(in_features=4, out_features=4, bias=True)\n",
      ")\n"
     ]
    }
   ],
   "source": [
    "\n",
    "selfattn = BertSelfAttention(config)\n",
    "print(selfattn)\n",
    "     "
   ]
  },
  {
   "cell_type": "code",
   "execution_count": 5,
   "id": "77bd21e8-d5ec-486f-9f0d-677111fc1e76",
   "metadata": {},
   "outputs": [
    {
     "name": "stdout",
     "output_type": "stream",
     "text": [
      "Embed Shape: torch.Size([1, 3, 4])\n",
      "Embed Values:\n",
      "tensor([[[0.0381, 0.2856, 0.5005, 0.9897],\n",
      "         [0.7127, 0.7762, 0.2505, 0.2072],\n",
      "         [0.6184, 0.2971, 0.1384, 0.2929]]])\n"
     ]
    }
   ],
   "source": [
    "embed_rand = torch.rand((1,3,4))\n",
    "print(f\"Embed Shape: {embed_rand.shape}\")\n",
    "print(f\"Embed Values:\\n{embed_rand}\")"
   ]
  },
  {
   "cell_type": "code",
   "execution_count": 6,
   "id": "7443914f-5778-4937-8e5f-ef08402a81c9",
   "metadata": {},
   "outputs": [
    {
     "name": "stdout",
     "output_type": "stream",
     "text": [
      "Output Shape: torch.Size([1, 3, 4])\n",
      "Output Values:\n",
      "tensor([[[ 0.0489, -0.3140,  0.3379,  0.1220],\n",
      "         [ 0.0499, -0.3146,  0.3362,  0.1221],\n",
      "         [ 0.0468, -0.3133,  0.3371,  0.1227]]], grad_fn=<ViewBackward0>)\n"
     ]
    }
   ],
   "source": [
    "\n",
    "output = selfattn(embed_rand)\n",
    "print(f\"Output Shape: {output.shape}\")\n",
    "print(f\"Output Values:\\n{output}\")"
   ]
  },
  {
   "cell_type": "code",
   "execution_count": null,
   "id": "0b69560e-93cb-430f-9f5f-c7b44d9ab0a1",
   "metadata": {},
   "outputs": [],
   "source": []
  }
 ],
 "metadata": {
  "kernelspec": {
   "display_name": "Optimization-Python",
   "language": "python",
   "name": "optimization-python"
  },
  "language_info": {
   "codemirror_mode": {
    "name": "ipython",
    "version": 3
   },
   "file_extension": ".py",
   "mimetype": "text/x-python",
   "name": "python",
   "nbconvert_exporter": "python",
   "pygments_lexer": "ipython3",
   "version": "3.9.15"
  }
 },
 "nbformat": 4,
 "nbformat_minor": 5
}
